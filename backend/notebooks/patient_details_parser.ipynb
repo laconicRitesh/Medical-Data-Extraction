{
 "cells": [
  {
   "cell_type": "code",
   "execution_count": 98,
   "id": "b6b34d0d",
   "metadata": {},
   "outputs": [],
   "source": [
    "import re\n",
    "from pdf2image import convert_from_path\n",
    "import pytesseract\n",
    "pages = convert_from_path(r'docs/patient_details/pd_1.pdf', poppler_path=r'D:\\files for project\\poppler-23.07.0\\Library\\bin')"
   ]
  },
  {
   "cell_type": "code",
   "execution_count": 99,
   "id": "9d01b1de",
   "metadata": {},
   "outputs": [
    {
     "name": "stdout",
     "output_type": "stream",
     "text": [
      "47/12/2020\n",
      "\n",
      "Patient Medical Record\n",
      "\n",
      "Patient Information Birth Date\n",
      "Kathy Crawford May 6 1972\n",
      "(737) 988-0851 Weight\n",
      "9264 Ash Dr 95\n",
      "New York City, 10005 .\n",
      "United States Height:\n",
      "190\n",
      "In Case of Emergency\n",
      "m _ a _\n",
      "Simeone Crawford 9266 Ash Dr\n",
      "New York City, New York, 10005\n",
      "Home phone United States\n",
      "(990) 375-4621\n",
      "Work phone\n",
      "Genera! Medical History\n",
      ". : a ee\n",
      "\n",
      "Chicken Pox (Varicella):\n",
      "\n",
      "IMMUNE\n",
      "\n",
      "Have you had the Hepatitis B vaccination?\n",
      "\n",
      "No\n",
      "\n",
      "List any Medical Problems (asthma, seizures, headaches):\n",
      "\n",
      "Migraine\n",
      "\n"
     ]
    }
   ],
   "source": [
    "pytesseract.pytesseract.tesseract_cmd=r'D:\\files for project\\Tesseract-OCR\\tesseract.exe'\n",
    "text = pytesseract.image_to_string(pages[0], lang='eng')\n",
    "print(text)"
   ]
  },
  {
   "cell_type": "code",
   "execution_count": 100,
   "id": "ca962ca5",
   "metadata": {},
   "outputs": [],
   "source": [
    "import cv2\n",
    "from PIL import Image\n",
    "import numpy as np\n",
    "def preprocess_image(img):\n",
    "    gray = cv2.cvtColor(np.array(img), cv2.COLOR_BGR2GRAY)\n",
    "    resized = cv2.resize(gray, None, fx=1.5, fy=1.5, interpolation=cv2.INTER_LINEAR)\n",
    "    processed_image = cv2.adaptiveThreshold(\n",
    "        resized,\n",
    "        255,\n",
    "        cv2.ADAPTIVE_THRESH_GAUSSIAN_C,\n",
    "        cv2.THRESH_BINARY,\n",
    "        61,\n",
    "        11\n",
    "    )\n",
    "    return processed_image\n",
    "img = preprocess_image(pages[0])"
   ]
  },
  {
   "cell_type": "code",
   "execution_count": 101,
   "id": "782d5abc",
   "metadata": {
    "scrolled": false
   },
   "outputs": [
    {
     "name": "stdout",
     "output_type": "stream",
     "text": [
      "17/12/2020\n",
      "\n",
      "Patient Medical Record\n",
      "\n",
      "Patient Information Birth Date\n",
      "\n",
      "Kathy Crawford May 6 1972\n",
      "\n",
      "(737) 988-0851 Weight’\n",
      "\n",
      "9264 Ash Dr 95\n",
      "\n",
      "New York City, 10005 '\n",
      "\n",
      "United States Height:\n",
      "190\n",
      "\n",
      "In Case of Emergency\n",
      "ee J\n",
      "Simeone Crawford 9266 Ash Dr\n",
      "New York City, New York, 10005\n",
      "Home phone United States\n",
      "(990) 375-4621\n",
      "Work phone\n",
      "Genera! Medical History\n",
      "nn i\n",
      "Chicken Pox (Varicella): Measies:\n",
      "IMMUNE\n",
      "\n",
      "IMMUNE\n",
      "Have you had the Hepatitis B vaccination?\n",
      "\n",
      "No\n",
      "\n",
      "List any Medical Problems (asthma, seizures, headaches}:\n",
      "\n",
      "Migraine\n",
      "\n"
     ]
    }
   ],
   "source": [
    "pytesseract.pytesseract.tesseract_cmd=r'D:\\files for project\\Tesseract-OCR\\tesseract.exe'\n",
    "text = pytesseract.image_to_string(img, lang='eng')\n",
    "print(text)"
   ]
  },
  {
   "cell_type": "code",
   "execution_count": 102,
   "id": "081b01cf",
   "metadata": {},
   "outputs": [
    {
     "data": {
      "text/plain": [
       "'(737) 988-0851'"
      ]
     },
     "execution_count": 102,
     "metadata": {},
     "output_type": "execute_result"
    }
   ],
   "source": [
    "import re\n",
    "pattern = '(\\(\\d+\\) \\d+-\\d+) Weight'\n",
    "matches = re.findall(pattern, text)\n",
    "matches[0].strip()"
   ]
  },
  {
   "cell_type": "code",
   "execution_count": 103,
   "id": "d212c36e",
   "metadata": {},
   "outputs": [
    {
     "data": {
      "text/plain": [
       "'Kathy Crawford'"
      ]
     },
     "execution_count": 103,
     "metadata": {},
     "output_type": "execute_result"
    }
   ],
   "source": [
    "import re\n",
    "pattern = 'Date(.*)(Jan|Feb|Mar|Apr|May|Jun|Jul|Aug|Sep|Oct|Nov|Dec)'\n",
    "matches = re.findall(pattern, text, flags=re.DOTALL)\n",
    "matches[0][0].strip()"
   ]
  },
  {
   "cell_type": "code",
   "execution_count": 104,
   "id": "2c05a0ee",
   "metadata": {},
   "outputs": [
    {
     "data": {
      "text/plain": [
       "'No'"
      ]
     },
     "execution_count": 104,
     "metadata": {},
     "output_type": "execute_result"
    }
   ],
   "source": [
    "pattern = 'vaccination\\?.*(Yes|No)'\n",
    "matches = re.findall(pattern, text, flags=re.DOTALL)\n",
    "matches[0].strip()"
   ]
  },
  {
   "cell_type": "code",
   "execution_count": 106,
   "id": "8eaf8ee8",
   "metadata": {},
   "outputs": [
    {
     "data": {
      "text/plain": [
       "[]"
      ]
     },
     "execution_count": 106,
     "metadata": {},
     "output_type": "execute_result"
    }
   ],
   "source": [
    "pattern = 'headaches\\):(.*)'\n",
    "matches = re.findall(pattern, text, flags=re.DOTALL)\n",
    "matches"
   ]
  }
 ],
 "metadata": {
  "kernelspec": {
   "display_name": "Python 3 (ipykernel)",
   "language": "python",
   "name": "python3"
  },
  "language_info": {
   "codemirror_mode": {
    "name": "ipython",
    "version": 3
   },
   "file_extension": ".py",
   "mimetype": "text/x-python",
   "name": "python",
   "nbconvert_exporter": "python",
   "pygments_lexer": "ipython3",
   "version": "3.10.0"
  }
 },
 "nbformat": 4,
 "nbformat_minor": 5
}
